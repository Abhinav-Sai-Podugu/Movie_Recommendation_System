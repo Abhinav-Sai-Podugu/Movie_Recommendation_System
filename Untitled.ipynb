{
 "cells": [
  {
   "cell_type": "code",
   "execution_count": null,
   "id": "ae9b3496-5ea9-465c-9166-686c5ea2806b",
   "metadata": {},
   "outputs": [],
   "source": [
    "import pandas as pd"
   ]
  },
  {
   "cell_type": "code",
   "execution_count": 2,
   "id": "7ce5060d-3b2a-4ce6-b5fe-824915498509",
   "metadata": {},
   "outputs": [],
   "source": [
    "dataset = pd.read_csv('TMDB_movie_dataset_v11.csv')"
   ]
  },
  {
   "cell_type": "code",
   "execution_count": 3,
   "id": "05ff5811-857a-40f7-bbbd-8f4496739211",
   "metadata": {},
   "outputs": [
    {
     "data": {
      "text/plain": [
       "id                                                                  27205\n",
       "title                                                           Inception\n",
       "vote_average                                                        8.364\n",
       "vote_count                                                          34495\n",
       "status                                                           Released\n",
       "release_date                                                   2010-07-15\n",
       "revenue                                                         825532764\n",
       "runtime                                                               148\n",
       "adult                                                               False\n",
       "backdrop_path                            /8ZTVqvKDQ8emSGUEMjsS4yHAwrp.jpg\n",
       "budget                                                          160000000\n",
       "homepage                      https://www.warnerbros.com/movies/inception\n",
       "imdb_id                                                         tt1375666\n",
       "original_language                                                      en\n",
       "original_title                                                  Inception\n",
       "overview                Cobb, a skilled thief who commits corporate es...\n",
       "popularity                                                         83.952\n",
       "poster_path                              /oYuLEt3zVCKq57qu2F8dT7NIa6f.jpg\n",
       "tagline                              Your mind is the scene of the crime.\n",
       "genres                                 Action, Science Fiction, Adventure\n",
       "production_companies    Legendary Pictures, Syncopy, Warner Bros. Pict...\n",
       "production_countries             United Kingdom, United States of America\n",
       "spoken_languages                       English, French, Japanese, Swahili\n",
       "keywords                rescue, mission, dream, airplane, paris, franc...\n",
       "Name: 0, dtype: object"
      ]
     },
     "execution_count": 3,
     "metadata": {},
     "output_type": "execute_result"
    }
   ],
   "source": [
    "dataset.iloc[0]"
   ]
  },
  {
   "cell_type": "code",
   "execution_count": 4,
   "id": "cd2a51c2-33ef-4c0f-bac7-5d7931ed8003",
   "metadata": {},
   "outputs": [],
   "source": [
    "dataset = dataset[['id', 'title', 'original_language', 'overview', 'genres', 'production_companies', 'keywords']]"
   ]
  },
  {
   "cell_type": "code",
   "execution_count": 5,
   "id": "16821998-0468-41c3-a813-24e84cac2a8f",
   "metadata": {},
   "outputs": [
    {
     "data": {
      "text/plain": [
       "id                                                                  27205\n",
       "title                                                           Inception\n",
       "original_language                                                      en\n",
       "overview                Cobb, a skilled thief who commits corporate es...\n",
       "genres                                 Action, Science Fiction, Adventure\n",
       "production_companies    Legendary Pictures, Syncopy, Warner Bros. Pict...\n",
       "keywords                rescue, mission, dream, airplane, paris, franc...\n",
       "Name: 0, dtype: object"
      ]
     },
     "execution_count": 5,
     "metadata": {},
     "output_type": "execute_result"
    }
   ],
   "source": [
    "dataset.iloc[0]"
   ]
  },
  {
   "cell_type": "code",
   "execution_count": 6,
   "id": "a79ea47e-f70c-409a-b572-27e8a4350d95",
   "metadata": {},
   "outputs": [
    {
     "data": {
      "text/html": [
       "<div>\n",
       "<style scoped>\n",
       "    .dataframe tbody tr th:only-of-type {\n",
       "        vertical-align: middle;\n",
       "    }\n",
       "\n",
       "    .dataframe tbody tr th {\n",
       "        vertical-align: top;\n",
       "    }\n",
       "\n",
       "    .dataframe thead th {\n",
       "        text-align: right;\n",
       "    }\n",
       "</style>\n",
       "<table border=\"1\" class=\"dataframe\">\n",
       "  <thead>\n",
       "    <tr style=\"text-align: right;\">\n",
       "      <th></th>\n",
       "      <th>id</th>\n",
       "      <th>title</th>\n",
       "      <th>original_language</th>\n",
       "      <th>overview</th>\n",
       "      <th>genres</th>\n",
       "      <th>production_companies</th>\n",
       "      <th>keywords</th>\n",
       "    </tr>\n",
       "  </thead>\n",
       "  <tbody>\n",
       "    <tr>\n",
       "      <th>0</th>\n",
       "      <td>27205</td>\n",
       "      <td>Inception</td>\n",
       "      <td>en</td>\n",
       "      <td>Cobb, a skilled thief who commits corporate es...</td>\n",
       "      <td>Action, Science Fiction, Adventure</td>\n",
       "      <td>Legendary Pictures, Syncopy, Warner Bros. Pict...</td>\n",
       "      <td>rescue, mission, dream, airplane, paris, franc...</td>\n",
       "    </tr>\n",
       "    <tr>\n",
       "      <th>1</th>\n",
       "      <td>157336</td>\n",
       "      <td>Interstellar</td>\n",
       "      <td>en</td>\n",
       "      <td>The adventures of a group of explorers who mak...</td>\n",
       "      <td>Adventure, Drama, Science Fiction</td>\n",
       "      <td>Legendary Pictures, Syncopy, Lynda Obst Produc...</td>\n",
       "      <td>rescue, future, spacecraft, race against time,...</td>\n",
       "    </tr>\n",
       "    <tr>\n",
       "      <th>2</th>\n",
       "      <td>155</td>\n",
       "      <td>The Dark Knight</td>\n",
       "      <td>en</td>\n",
       "      <td>Batman raises the stakes in his war on crime. ...</td>\n",
       "      <td>Drama, Action, Crime, Thriller</td>\n",
       "      <td>DC Comics, Legendary Pictures, Syncopy, Isobel...</td>\n",
       "      <td>joker, sadism, chaos, secret identity, crime f...</td>\n",
       "    </tr>\n",
       "    <tr>\n",
       "      <th>3</th>\n",
       "      <td>19995</td>\n",
       "      <td>Avatar</td>\n",
       "      <td>en</td>\n",
       "      <td>In the 22nd century, a paraplegic Marine is di...</td>\n",
       "      <td>Action, Adventure, Fantasy, Science Fiction</td>\n",
       "      <td>Dune Entertainment, Lightstorm Entertainment, ...</td>\n",
       "      <td>future, society, culture clash, space travel, ...</td>\n",
       "    </tr>\n",
       "    <tr>\n",
       "      <th>4</th>\n",
       "      <td>24428</td>\n",
       "      <td>The Avengers</td>\n",
       "      <td>en</td>\n",
       "      <td>When an unexpected enemy emerges and threatens...</td>\n",
       "      <td>Science Fiction, Action, Adventure</td>\n",
       "      <td>Marvel Studios</td>\n",
       "      <td>new york city, superhero, shield, based on com...</td>\n",
       "    </tr>\n",
       "  </tbody>\n",
       "</table>\n",
       "</div>"
      ],
      "text/plain": [
       "       id            title original_language  \\\n",
       "0   27205        Inception                en   \n",
       "1  157336     Interstellar                en   \n",
       "2     155  The Dark Knight                en   \n",
       "3   19995           Avatar                en   \n",
       "4   24428     The Avengers                en   \n",
       "\n",
       "                                            overview  \\\n",
       "0  Cobb, a skilled thief who commits corporate es...   \n",
       "1  The adventures of a group of explorers who mak...   \n",
       "2  Batman raises the stakes in his war on crime. ...   \n",
       "3  In the 22nd century, a paraplegic Marine is di...   \n",
       "4  When an unexpected enemy emerges and threatens...   \n",
       "\n",
       "                                        genres  \\\n",
       "0           Action, Science Fiction, Adventure   \n",
       "1            Adventure, Drama, Science Fiction   \n",
       "2               Drama, Action, Crime, Thriller   \n",
       "3  Action, Adventure, Fantasy, Science Fiction   \n",
       "4           Science Fiction, Action, Adventure   \n",
       "\n",
       "                                production_companies  \\\n",
       "0  Legendary Pictures, Syncopy, Warner Bros. Pict...   \n",
       "1  Legendary Pictures, Syncopy, Lynda Obst Produc...   \n",
       "2  DC Comics, Legendary Pictures, Syncopy, Isobel...   \n",
       "3  Dune Entertainment, Lightstorm Entertainment, ...   \n",
       "4                                     Marvel Studios   \n",
       "\n",
       "                                            keywords  \n",
       "0  rescue, mission, dream, airplane, paris, franc...  \n",
       "1  rescue, future, spacecraft, race against time,...  \n",
       "2  joker, sadism, chaos, secret identity, crime f...  \n",
       "3  future, society, culture clash, space travel, ...  \n",
       "4  new york city, superhero, shield, based on com...  "
      ]
     },
     "execution_count": 6,
     "metadata": {},
     "output_type": "execute_result"
    }
   ],
   "source": [
    "dataset.head()"
   ]
  },
  {
   "cell_type": "code",
   "execution_count": 7,
   "id": "6c4401cf-3f89-4bed-a328-076c7662d5d7",
   "metadata": {},
   "outputs": [
    {
     "data": {
      "text/plain": [
       "id                           0\n",
       "title                       13\n",
       "original_language            0\n",
       "overview                222138\n",
       "genres                  440341\n",
       "production_companies    605927\n",
       "keywords                806096\n",
       "dtype: int64"
      ]
     },
     "execution_count": 7,
     "metadata": {},
     "output_type": "execute_result"
    }
   ],
   "source": [
    "dataset.isnull().sum()"
   ]
  },
  {
   "cell_type": "code",
   "execution_count": 8,
   "id": "41506c12-05bc-4234-9360-a4a19fd1c7c6",
   "metadata": {},
   "outputs": [],
   "source": [
    "dataset = dataset.dropna(subset=['title'])"
   ]
  },
  {
   "cell_type": "code",
   "execution_count": 9,
   "id": "61b8cef9-2a53-44fa-a3ec-1715b9d1505b",
   "metadata": {},
   "outputs": [
    {
     "data": {
      "text/plain": [
       "id                           0\n",
       "title                        0\n",
       "original_language            0\n",
       "overview                222129\n",
       "genres                  440333\n",
       "production_companies    605914\n",
       "keywords                806084\n",
       "dtype: int64"
      ]
     },
     "execution_count": 9,
     "metadata": {},
     "output_type": "execute_result"
    }
   ],
   "source": [
    "dataset.isnull().sum()"
   ]
  },
  {
   "cell_type": "code",
   "execution_count": 10,
   "id": "cde44e14-ed41-4394-9f3b-6c1e6fd2b87e",
   "metadata": {},
   "outputs": [
    {
     "data": {
      "text/plain": [
       "450"
      ]
     },
     "execution_count": 10,
     "metadata": {},
     "output_type": "execute_result"
    }
   ],
   "source": [
    "dataset.duplicated().sum()"
   ]
  },
  {
   "cell_type": "code",
   "execution_count": 11,
   "id": "0e1b3af1-a219-4c68-815d-9549910eeba3",
   "metadata": {},
   "outputs": [],
   "source": [
    "dataset = dataset.drop_duplicates()"
   ]
  },
  {
   "cell_type": "code",
   "execution_count": 12,
   "id": "c36557b5-93b2-45a1-a3b5-88c7d795ce3c",
   "metadata": {},
   "outputs": [
    {
     "data": {
      "text/plain": [
       "0"
      ]
     },
     "execution_count": 12,
     "metadata": {},
     "output_type": "execute_result"
    }
   ],
   "source": [
    "dataset.duplicated().sum()"
   ]
  },
  {
   "cell_type": "code",
   "execution_count": 13,
   "id": "dfe247f7-7c78-431d-b2b5-eda9ef0565f0",
   "metadata": {},
   "outputs": [],
   "source": [
    "import ast"
   ]
  },
  {
   "cell_type": "code",
   "execution_count": 14,
   "id": "371cf0bf-796d-4185-910b-d98151e263c6",
   "metadata": {},
   "outputs": [],
   "source": [
    "import numpy as np"
   ]
  },
  {
   "cell_type": "code",
   "execution_count": 15,
   "id": "9923e859-2a97-4088-b12d-50a2ed29d587",
   "metadata": {},
   "outputs": [],
   "source": [
    "dataset['overview'] = dataset['overview'].apply(lambda x:x.split() if isinstance(x, str) else x)"
   ]
  },
  {
   "cell_type": "code",
   "execution_count": 16,
   "id": "0ff19108-f2f2-48a4-acd5-53902838c7a9",
   "metadata": {},
   "outputs": [],
   "source": [
    "dataset['genres'] = dataset['genres'].apply(lambda x:[i.replace(\" \", \"\") for i in x] if isinstance(x, list) else x)\n",
    "dataset['overview'] = dataset['overview'].apply(lambda x:[i.replace(\" \", \"\") for i in x] if isinstance(x, list) else x)\n",
    "dataset['keywords'] = dataset['keywords'].apply(lambda x:[i.replace(\" \", \"\") for i in x] if isinstance(x, list) else x)"
   ]
  },
  {
   "cell_type": "code",
   "execution_count": 17,
   "id": "ed6ca6bb-f8a1-467a-ae2a-ec7f10b08c96",
   "metadata": {},
   "outputs": [],
   "source": [
    "dataset['production_companies'] = dataset['production_companies'].apply(lambda x:[i.replace(\" \", \"\") for i in x] if isinstance(x, list) else x)\n",
    "dataset['original_language'] = dataset['original_language'].apply(lambda x:[i.replace(\" \", \"\") for i in x] if isinstance(x, list) else x)"
   ]
  },
  {
   "cell_type": "code",
   "execution_count": 18,
   "id": "05f2a8d0-f81b-4a18-bc5f-a5b493c7cd83",
   "metadata": {},
   "outputs": [],
   "source": [
    "def to_list(x):\n",
    "    if isinstance(x, list):\n",
    "        return x\n",
    "    elif isinstance(x, str):\n",
    "        return [x]\n",
    "    else:\n",
    "        return [] "
   ]
  },
  {
   "cell_type": "code",
   "execution_count": 19,
   "id": "1f63dab7-f27b-4b90-8b62-980646130c39",
   "metadata": {},
   "outputs": [],
   "source": [
    "dataset['overview'] = dataset['overview'].apply(to_list)\n",
    "dataset['keywords'] = dataset['keywords'].apply(to_list)\n",
    "dataset['genres'] = dataset['genres'].apply(to_list)\n",
    "dataset['production_companies'] = dataset['production_companies'].apply(to_list)\n",
    "dataset['original_language'] = dataset['original_language'].apply(to_list)"
   ]
  },
  {
   "cell_type": "code",
   "execution_count": 20,
   "id": "cafaf36e-9b01-4ac7-bf2e-42d8420731e4",
   "metadata": {},
   "outputs": [],
   "source": [
    "dataset['final'] = dataset['overview'] + dataset['keywords'] + dataset['genres'] + dataset['production_companies'] + dataset['original_language']"
   ]
  },
  {
   "cell_type": "code",
   "execution_count": 21,
   "id": "83cd5211-654a-4fd4-bcbf-69c3490b11ce",
   "metadata": {},
   "outputs": [],
   "source": [
    "dataset = dataset[['id', 'title', 'final']]"
   ]
  },
  {
   "cell_type": "code",
   "execution_count": 22,
   "id": "84d1ad2a-6dca-4056-92bf-772b451d731f",
   "metadata": {},
   "outputs": [],
   "source": [
    "dataset['final'] = dataset['final'].apply(lambda x:\" \".join(x))"
   ]
  },
  {
   "cell_type": "code",
   "execution_count": 23,
   "id": "2a4b5b0d-ba27-493c-92c3-3927c6ceea8f",
   "metadata": {},
   "outputs": [
    {
     "data": {
      "text/html": [
       "<div>\n",
       "<style scoped>\n",
       "    .dataframe tbody tr th:only-of-type {\n",
       "        vertical-align: middle;\n",
       "    }\n",
       "\n",
       "    .dataframe tbody tr th {\n",
       "        vertical-align: top;\n",
       "    }\n",
       "\n",
       "    .dataframe thead th {\n",
       "        text-align: right;\n",
       "    }\n",
       "</style>\n",
       "<table border=\"1\" class=\"dataframe\">\n",
       "  <thead>\n",
       "    <tr style=\"text-align: right;\">\n",
       "      <th></th>\n",
       "      <th>id</th>\n",
       "      <th>title</th>\n",
       "      <th>final</th>\n",
       "    </tr>\n",
       "  </thead>\n",
       "  <tbody>\n",
       "    <tr>\n",
       "      <th>0</th>\n",
       "      <td>27205</td>\n",
       "      <td>Inception</td>\n",
       "      <td>Cobb, a skilled thief who commits corporate es...</td>\n",
       "    </tr>\n",
       "    <tr>\n",
       "      <th>1</th>\n",
       "      <td>157336</td>\n",
       "      <td>Interstellar</td>\n",
       "      <td>The adventures of a group of explorers who mak...</td>\n",
       "    </tr>\n",
       "    <tr>\n",
       "      <th>2</th>\n",
       "      <td>155</td>\n",
       "      <td>The Dark Knight</td>\n",
       "      <td>Batman raises the stakes in his war on crime. ...</td>\n",
       "    </tr>\n",
       "    <tr>\n",
       "      <th>3</th>\n",
       "      <td>19995</td>\n",
       "      <td>Avatar</td>\n",
       "      <td>In the 22nd century, a paraplegic Marine is di...</td>\n",
       "    </tr>\n",
       "    <tr>\n",
       "      <th>4</th>\n",
       "      <td>24428</td>\n",
       "      <td>The Avengers</td>\n",
       "      <td>When an unexpected enemy emerges and threatens...</td>\n",
       "    </tr>\n",
       "  </tbody>\n",
       "</table>\n",
       "</div>"
      ],
      "text/plain": [
       "       id            title                                              final\n",
       "0   27205        Inception  Cobb, a skilled thief who commits corporate es...\n",
       "1  157336     Interstellar  The adventures of a group of explorers who mak...\n",
       "2     155  The Dark Knight  Batman raises the stakes in his war on crime. ...\n",
       "3   19995           Avatar  In the 22nd century, a paraplegic Marine is di...\n",
       "4   24428     The Avengers  When an unexpected enemy emerges and threatens..."
      ]
     },
     "execution_count": 23,
     "metadata": {},
     "output_type": "execute_result"
    }
   ],
   "source": [
    "dataset.head()"
   ]
  },
  {
   "cell_type": "code",
   "execution_count": 24,
   "id": "4539e536-e2c6-4c78-ada6-931bf46c5db6",
   "metadata": {},
   "outputs": [],
   "source": [
    "dataset['final'] = dataset['final'].apply(lambda x:x.lower())"
   ]
  },
  {
   "cell_type": "code",
   "execution_count": 25,
   "id": "8a1309b7-56a8-4c55-a350-38589e1b74d8",
   "metadata": {},
   "outputs": [
    {
     "name": "stdout",
     "output_type": "stream",
     "text": [
      "Requirement already satisfied: nltk in c:\\users\\p. abhinav sai\\appdata\\local\\programs\\python\\python312\\lib\\site-packages (3.9.1)Note: you may need to restart the kernel to use updated packages.\n",
      "\n",
      "Requirement already satisfied: click in c:\\users\\p. abhinav sai\\appdata\\local\\programs\\python\\python312\\lib\\site-packages (from nltk) (8.1.7)\n",
      "Requirement already satisfied: joblib in c:\\users\\p. abhinav sai\\appdata\\local\\programs\\python\\python312\\lib\\site-packages (from nltk) (1.4.2)\n",
      "Requirement already satisfied: regex>=2021.8.3 in c:\\users\\p. abhinav sai\\appdata\\local\\programs\\python\\python312\\lib\\site-packages (from nltk) (2024.9.11)\n",
      "Requirement already satisfied: tqdm in c:\\users\\p. abhinav sai\\appdata\\local\\programs\\python\\python312\\lib\\site-packages (from nltk) (4.66.5)\n",
      "Requirement already satisfied: colorama in c:\\users\\p. abhinav sai\\appdata\\local\\programs\\python\\python312\\lib\\site-packages (from click->nltk) (0.4.6)\n"
     ]
    }
   ],
   "source": [
    "pip install nltk"
   ]
  },
  {
   "cell_type": "code",
   "execution_count": 26,
   "id": "3c078802-5258-4dba-8707-4a0f0f90fab9",
   "metadata": {},
   "outputs": [],
   "source": [
    "import nltk"
   ]
  },
  {
   "cell_type": "code",
   "execution_count": 27,
   "id": "ceb49ea9-c748-4ca3-84cb-d1fe122830b9",
   "metadata": {},
   "outputs": [],
   "source": [
    "from nltk.stem.porter import PorterStemmer\n",
    "ps = PorterStemmer()"
   ]
  },
  {
   "cell_type": "code",
   "execution_count": 28,
   "id": "7148d205-2783-46f8-9bb7-482a8feadae4",
   "metadata": {},
   "outputs": [],
   "source": [
    "def stem(text):\n",
    "    y = []\n",
    "    for i in text.split():\n",
    "        y.append(ps.stem(i))\n",
    "    return \" \".join(y)"
   ]
  },
  {
   "cell_type": "code",
   "execution_count": 31,
   "id": "699e8e15-010f-423a-b0c3-51dd1aa21fad",
   "metadata": {},
   "outputs": [],
   "source": [
    "dataset['final'] = dataset['final'].apply(stem)"
   ]
  },
  {
   "cell_type": "code",
   "execution_count": 33,
   "id": "7cefd5a8-4269-4af4-b129-006845fcf4b4",
   "metadata": {},
   "outputs": [],
   "source": [
    "from sklearn.feature_extraction.text import CountVectorizer\n",
    "cv = CountVectorizer(max_features = 5000, stop_words = 'english')"
   ]
  },
  {
   "cell_type": "code",
   "execution_count": 34,
   "id": "f18ce8fe-2055-4b45-8920-81efd4e1b4b1",
   "metadata": {},
   "outputs": [],
   "source": [
    "vectors = cv.fit_transform(dataset['final'])"
   ]
  },
  {
   "cell_type": "code",
   "execution_count": null,
   "id": "c511ba53-9618-4990-82de-85bda054994a",
   "metadata": {},
   "outputs": [],
   "source": [
    "vectors"
   ]
  },
  {
   "cell_type": "code",
   "execution_count": 36,
   "id": "e01de3ab-ec4c-4e10-bdae-e85e9fe55614",
   "metadata": {},
   "outputs": [
    {
     "data": {
      "text/plain": [
       "array(['00', '000', '01', ..., 'zoo', 'československá', 'česká'],\n",
       "      dtype=object)"
      ]
     },
     "execution_count": 36,
     "metadata": {},
     "output_type": "execute_result"
    }
   ],
   "source": [
    "cv.get_feature_names_out()"
   ]
  },
  {
   "cell_type": "code",
   "execution_count": 37,
   "id": "f5f27ff7-ac0c-4641-a449-8135b888b6e3",
   "metadata": {},
   "outputs": [],
   "source": [
    "from sklearn.metrics.pairwise import cosine_similarity"
   ]
  },
  {
   "cell_type": "code",
   "execution_count": null,
   "id": "88f0a710-5c2f-4650-9144-eb4b3da910bb",
   "metadata": {},
   "outputs": [],
   "source": [
    "similarity = cosine_similarity(vectors)"
   ]
  },
  {
   "cell_type": "code",
   "execution_count": null,
   "id": "a45b09e1-ec1d-45ce-8cbc-fd18aac53ced",
   "metadata": {},
   "outputs": [],
   "source": [
    "def recommend(movie):\n",
    "    id = dataset[dataset['title'] == movie].index[0]\n",
    "    distance = similarity[id]\n",
    "    movies_list = sorted(list(enumerate(distance)), reverse = True, key = lambda x:x[1])[1:6]\n",
    "\n",
    "    for i in movies_list:\n",
    "        print(dataset.iloc[i[0]].title)"
   ]
  },
  {
   "cell_type": "code",
   "execution_count": null,
   "id": "ef0b9370-82c9-4c3d-814e-635e213c79fa",
   "metadata": {},
   "outputs": [],
   "source": [
    "recommend('Avatar')"
   ]
  },
  {
   "cell_type": "code",
   "execution_count": null,
   "id": "9aa56c07-e958-4509-888c-deda352db602",
   "metadata": {},
   "outputs": [],
   "source": []
  }
 ],
 "metadata": {
  "kernelspec": {
   "display_name": "Python 3 (ipykernel)",
   "language": "python",
   "name": "python3"
  },
  "language_info": {
   "codemirror_mode": {
    "name": "ipython",
    "version": 3
   },
   "file_extension": ".py",
   "mimetype": "text/x-python",
   "name": "python",
   "nbconvert_exporter": "python",
   "pygments_lexer": "ipython3",
   "version": "3.12.3"
  }
 },
 "nbformat": 4,
 "nbformat_minor": 5
}
